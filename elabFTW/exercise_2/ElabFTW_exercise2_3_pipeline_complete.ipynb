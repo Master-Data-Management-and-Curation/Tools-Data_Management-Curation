{
 "cells": [
  {
   "attachments": {},
   "cell_type": "markdown",
   "id": "54608631-e2c3-48aa-8542-5016216efc38",
   "metadata": {},
   "source": [
    "# MORE REALISTIC PIPELINE\n",
    "\n",
    "In this notebook we want to set-up a more realistic pipeline that take metadata by elabFTW and insert them in a hdf5 file. In this case we will start not knowing which and how many experiments are on elabFTW. We only know that we already processed experiments with ID=48 and 49.\n",
    "We will\n",
    "- get  all the experiments registered by using the experiments API;\n",
    "- look for experiments with  ID not in 48,49\n",
    "- get the metadata by elabFTW by using its API\n",
    "- read the output file\n",
    "- look for item type fields and use again API to decode that field\n",
    "- create an empty hdf5 file\n",
    "- map the metadata we are interested in, in the hdf5 fields\n",
    "\n",
    "In practice what change with respect the simple case is that we look for the ID and that in principle the metadata structure will be more complicated.\n",
    "\n"
   ]
  },
  {
   "cell_type": "markdown",
   "id": "a13cdb93-c5a6-4457-b0f4-b0e90a7d0319",
   "metadata": {},
   "source": [
    "### Set up"
   ]
  },
  {
   "cell_type": "code",
   "execution_count": 48,
   "id": "08967dd9-afc4-4257-8ae9-da65422a0fc8",
   "metadata": {},
   "outputs": [
    {
     "name": "stdout",
     "output_type": "stream",
     "text": [
      "Requirement already satisfied: nexusformat in /Library/Frameworks/Python.framework/Versions/3.12/lib/python3.12/site-packages (1.0.6)\n",
      "Requirement already satisfied: numpy in /Library/Frameworks/Python.framework/Versions/3.12/lib/python3.12/site-packages (from nexusformat) (1.26.4)\n",
      "Requirement already satisfied: scipy in /Library/Frameworks/Python.framework/Versions/3.12/lib/python3.12/site-packages (from nexusformat) (1.14.1)\n",
      "Requirement already satisfied: h5py>=2.9 in /Library/Frameworks/Python.framework/Versions/3.12/lib/python3.12/site-packages (from nexusformat) (3.12.1)\n",
      "Requirement already satisfied: hdf5plugin in /Library/Frameworks/Python.framework/Versions/3.12/lib/python3.12/site-packages (from nexusformat) (5.0.0)\n",
      "\n",
      "\u001b[1m[\u001b[0m\u001b[34;49mnotice\u001b[0m\u001b[1;39;49m]\u001b[0m\u001b[39;49m A new release of pip is available: \u001b[0m\u001b[31;49m24.1.2\u001b[0m\u001b[39;49m -> \u001b[0m\u001b[32;49m24.2\u001b[0m\n",
      "\u001b[1m[\u001b[0m\u001b[34;49mnotice\u001b[0m\u001b[1;39;49m]\u001b[0m\u001b[39;49m To update, run: \u001b[0m\u001b[32;49mpip install --upgrade pip\u001b[0m\n",
      "Note: you may need to restart the kernel to use updated packages.\n"
     ]
    }
   ],
   "source": [
    "pip install nexusformat"
   ]
  },
  {
   "cell_type": "code",
   "execution_count": 1,
   "id": "5e7411a5-fb91-4c4e-b729-cdb33303aa54",
   "metadata": {},
   "outputs": [],
   "source": [
    "import datetime\n",
    "# the python library for elabftw\n",
    "import elabapi_python\n",
    "import json\n",
    "import csv\n",
    "import os\n",
    "import ast\n",
    "import pprint\n",
    "import h5py\n",
    "from nexusformat.nexus import *\n",
    "\n",
    "path=\" \" #insert your path\n"
   ]
  },
  {
   "cell_type": "markdown",
   "id": "8a08bd65-2a22-4804-b2b6-cef5196ea819",
   "metadata": {},
   "source": [
    "###  API configuration"
   ]
  },
  {
   "cell_type": "code",
   "execution_count": 2,
   "id": "ff769d86-d128-4d31-80e8-ca1a33697332",
   "metadata": {},
   "outputs": [],
   "source": [
    "\n",
    "# replace with the URL of your instance\n",
    "API_HOST_URL = 'https://nffa-di-electronic-lab.areasciencepark.it/api/v2/'\n",
    "# replace with your api key\n",
    "API_KEY = '' #put your key"
   ]
  },
  {
   "cell_type": "markdown",
   "id": "21b4f08f-3d57-48f4-b72f-c76c3bb006e5",
   "metadata": {},
   "source": [
    "### ElabFTW get\n",
    "\n",
    "Now we will use the elab API to get all the experiments and save the response  in a json file 'exps.json'. We are not going to use the python library elabapi_python but using the package 'os' we work as we were on the shell and use the command curl."
   ]
  },
  {
   "cell_type": "code",
   "execution_count": 3,
   "id": "8ec3eec5-b2bb-4d88-8c91-47cac68a4d94",
   "metadata": {},
   "outputs": [
    {
     "name": "stderr",
     "output_type": "stream",
     "text": [
      "  % Total    % Received % Xferd  Average Speed   Time    Time     Time  Current\n",
      "                                 Dload  Upload   Total   Spent    Left  Speed\n",
      "100  6194    0  6194    0     0  29709      0 --:--:-- --:--:-- --:--:-- 29778\n"
     ]
    },
    {
     "data": {
      "text/plain": [
       "0"
      ]
     },
     "execution_count": 3,
     "metadata": {},
     "output_type": "execute_result"
    }
   ],
   "source": [
    "os.system('curl -H \"Authorization: '+API_KEY+'\"'+\"GET https://nffa-di-electronic-lab.areasciencepark.it/api/v2/experiments  -H 'accept: application/json' >\"+ path+'exps.json')  "
   ]
  },
  {
   "cell_type": "markdown",
   "id": "55e68156-21a6-4cec-8f3e-d9d3b2201fda",
   "metadata": {},
   "source": [
    "The response is '0' that means everything has gone well!\n",
    "Now let's look at the file."
   ]
  },
  {
   "cell_type": "code",
   "execution_count": 4,
   "id": "6832842c-1d4a-44d9-b5ae-3f69a75301ea",
   "metadata": {},
   "outputs": [
    {
     "data": {
      "text/plain": [
       "[{'id': 49,\n",
       "  'title': 'NXem_simplified_id1',\n",
       "  'date': '2024-10-10',\n",
       "  'body': '',\n",
       "  'status': None,\n",
       "  'rating': 0,\n",
       "  'userid': 3,\n",
       "  'elabid': '20241010-4a6bef7cb22f520f1e396250213b67ca7845fb1a',\n",
       "  'locked': 0,\n",
       "  'lockedby': None,\n",
       "  'locked_at': None,\n",
       "  'timestamped': 0,\n",
       "  'timestampedby': None,\n",
       "  'timestamped_at': None,\n",
       "  'canread': '{\"base\": 30, \"teams\": [], \"users\": [], \"teamgroups\": []}',\n",
       "  'canwrite': '{\"base\": 20, \"teams\": [], \"users\": [], \"teamgroups\": []}',\n",
       "  'content_type': 1,\n",
       "  'created_at': '2024-10-10 09:50:59',\n",
       "  'modified_at': '2024-10-10 09:51:43',\n",
       "  'lastchangeby': 3,\n",
       "  'metadata': '{\"elabftw\": {\"extra_fields_groups\": [{\"id\": 1, \"name\": \"Sample\"}, {\"id\": 2, \"name\": \"Coordinate_System_Set\"}, {\"id\": 3, \"name\": \"Fields\"}]}, \"extra_fields\": {\"Sample\": {\"type\": \"items\", \"value\": 24, \"group_id\": 1, \"required\": true}, \"Definition\": {\"type\": \"text\", \"value\": \"NXem\", \"group_id\": 3, \"required\": true}, \"Start_Time\": {\"type\": \"date\", \"value\": \"2024-10-10\", \"group_id\": 3, \"required\": true}, \"Experiment_alias\": {\"type\": \"text\", \"value\": \"em_simplified_id1\", \"group_id\": 3, \"required\": true}, \"Attribute_Definition_Version\": {\"type\": \"text\", \"value\": \"v1\", \"group_id\": 3, \"required\": true}}}',\n",
       "  'state': 1,\n",
       "  'access_key': None,\n",
       "  'category': 7,\n",
       "  'custom_id': None,\n",
       "  'team': 13,\n",
       "  'page': 'experiments',\n",
       "  'type': 'experiments',\n",
       "  'status_title': None,\n",
       "  'status_color': None,\n",
       "  'category_title': 'NXem_simplified',\n",
       "  'category_color': '615bae',\n",
       "  'recent_comment': None,\n",
       "  'has_comment': 0,\n",
       "  'tags': None,\n",
       "  'tags_id': None,\n",
       "  'events_start': None,\n",
       "  'next_step': None,\n",
       "  'firstname': 'Federica',\n",
       "  'lastname': 'Bazzocchi',\n",
       "  'orcid': None,\n",
       "  'fullname': 'Federica Bazzocchi',\n",
       "  'team_name': 'MASTER',\n",
       "  'up_item_id': None,\n",
       "  'has_attachment': None},\n",
       " {'id': 48,\n",
       "  'title': 'NXem_toy_id1',\n",
       "  'date': '2024-10-10',\n",
       "  'body': '',\n",
       "  'status': None,\n",
       "  'rating': 0,\n",
       "  'userid': 3,\n",
       "  'elabid': '20241010-2c7fc8842cab5d99c5d67ec8d8bbe743a5f9376e',\n",
       "  'locked': 0,\n",
       "  'lockedby': None,\n",
       "  'locked_at': None,\n",
       "  'timestamped': 0,\n",
       "  'timestampedby': None,\n",
       "  'timestamped_at': None,\n",
       "  'canread': '{\"base\": 30, \"teams\": [], \"users\": [], \"teamgroups\": []}',\n",
       "  'canwrite': '{\"base\": 20, \"teams\": [], \"users\": [], \"teamgroups\": []}',\n",
       "  'content_type': 1,\n",
       "  'created_at': '2024-10-10 09:49:44',\n",
       "  'modified_at': '2024-10-10 09:50:38',\n",
       "  'lastchangeby': 3,\n",
       "  'metadata': '{\"elabftw\": {\"extra_fields_groups\": [{\"id\": 1, \"name\": \"Sample\"}, {\"id\": 2, \"name\": \"Coordinate_System_Set\"}, {\"id\": 3, \"name\": \"Fields\"}]}, \"extra_fields\": {\"Definition\": {\"type\": \"text\", \"value\": \"NXem\", \"group_id\": 3, \"required\": true}, \"Start_Time\": {\"type\": \"date\", \"value\": \"2024-10-10\", \"group_id\": 3, \"required\": true}, \"Experiment_alias\": {\"type\": \"text\", \"value\": \"em_toy_id1\", \"group_id\": 3, \"required\": true}}}',\n",
       "  'state': 1,\n",
       "  'access_key': None,\n",
       "  'category': 6,\n",
       "  'custom_id': None,\n",
       "  'team': 13,\n",
       "  'page': 'experiments',\n",
       "  'type': 'experiments',\n",
       "  'status_title': None,\n",
       "  'status_color': None,\n",
       "  'category_title': 'NXem_toy',\n",
       "  'category_color': 'b1a9d1',\n",
       "  'recent_comment': None,\n",
       "  'has_comment': 0,\n",
       "  'tags': None,\n",
       "  'tags_id': None,\n",
       "  'events_start': None,\n",
       "  'next_step': None,\n",
       "  'firstname': 'Federica',\n",
       "  'lastname': 'Bazzocchi',\n",
       "  'orcid': None,\n",
       "  'fullname': 'Federica Bazzocchi',\n",
       "  'team_name': 'MASTER',\n",
       "  'up_item_id': None,\n",
       "  'has_attachment': None},\n",
       " {'id': 46,\n",
       "  'title': 'NXem_id1',\n",
       "  'date': '2024-10-01',\n",
       "  'body': '',\n",
       "  'status': None,\n",
       "  'rating': 0,\n",
       "  'userid': 3,\n",
       "  'elabid': '20241001-ca9e1c74c1b9650a469f5f610fdd602362aedff2',\n",
       "  'locked': 0,\n",
       "  'lockedby': None,\n",
       "  'locked_at': None,\n",
       "  'timestamped': 0,\n",
       "  'timestampedby': None,\n",
       "  'timestamped_at': None,\n",
       "  'canread': '{\"base\": 30, \"teams\": [], \"users\": [], \"teamgroups\": []}',\n",
       "  'canwrite': '{\"base\": 20, \"teams\": [], \"users\": [], \"teamgroups\": []}',\n",
       "  'content_type': 1,\n",
       "  'created_at': '2024-10-01 11:42:50',\n",
       "  'modified_at': '2024-10-07 18:20:29',\n",
       "  'lastchangeby': 3,\n",
       "  'metadata': '{\"elabftw\": {\"extra_fields_groups\": [{\"id\": 1, \"name\": \"Sample\"}, {\"id\": 2, \"name\": \"Coordinate_System_Set\"}, {\"id\": 3, \"name\": \"Fields\"}]}, \"extra_fields\": {\"Sample\": {\"type\": \"items\", \"value\": 24, \"group_id\": 1, \"required\": true}, \"Definition\": {\"type\": \"text\", \"value\": \"NXem\", \"group_id\": 3, \"required\": true}, \"Start_Time\": {\"type\": \"date\", \"value\": \"2024-10-07\", \"group_id\": 3, \"required\": true}, \"Experiment_alias\": {\"type\": \"text\", \"value\": \"EM_S1\", \"group_id\": 3, \"required\": true}, \"Coordinate_System\": {\"type\": \"items\", \"value\": 25, \"group_id\": 2, \"required\": true}, \"Attribute_Definition_Version\": {\"type\": \"text\", \"value\": \"v1\", \"group_id\": 3, \"required\": true}}}',\n",
       "  'state': 1,\n",
       "  'access_key': None,\n",
       "  'category': 5,\n",
       "  'custom_id': None,\n",
       "  'team': 13,\n",
       "  'page': 'experiments',\n",
       "  'type': 'experiments',\n",
       "  'status_title': None,\n",
       "  'status_color': None,\n",
       "  'category_title': 'NXem',\n",
       "  'category_color': '1d46ed',\n",
       "  'recent_comment': None,\n",
       "  'has_comment': 0,\n",
       "  'tags': None,\n",
       "  'tags_id': None,\n",
       "  'events_start': None,\n",
       "  'next_step': None,\n",
       "  'firstname': 'Federica',\n",
       "  'lastname': 'Bazzocchi',\n",
       "  'orcid': None,\n",
       "  'fullname': 'Federica Bazzocchi',\n",
       "  'team_name': 'MASTER',\n",
       "  'up_item_id': None,\n",
       "  'has_attachment': None}]"
      ]
     },
     "execution_count": 4,
     "metadata": {},
     "output_type": "execute_result"
    }
   ],
   "source": [
    "with open(path+'exps.json', \"r\") as jsonfile:\n",
    "        dic_exp = json.load(jsonfile) \n",
    "dic_exp"
   ]
  },
  {
   "cell_type": "markdown",
   "id": "f0eedf2a-f275-4da9-98a4-bdcf87efb146",
   "metadata": {},
   "source": [
    "It is list which elements are dictionary-like entries- For all the experiments we have **all the informations** present in the experiment page (all the metadata!). We want to look for the ID we want to process."
   ]
  },
  {
   "cell_type": "code",
   "execution_count": 10,
   "id": "a7a750e1-418a-4378-a914-99c333d1c957",
   "metadata": {},
   "outputs": [],
   "source": [
    "id_exp_done=[48,49]\n",
    "exp_to_do=[]\n",
    "for k in dic_exp:\n",
    "    if k['id'] not in id_exp_done:\n",
    "      exp_to_do.append(k)"
   ]
  },
  {
   "cell_type": "markdown",
   "id": "6e98e5d0-e755-440a-9377-319a247969dd",
   "metadata": {},
   "source": [
    "Let's see how many experiments we have to process"
   ]
  },
  {
   "cell_type": "code",
   "execution_count": 11,
   "id": "4bd915d0-9440-4e73-bbc7-442d845c52fa",
   "metadata": {},
   "outputs": [
    {
     "name": "stdout",
     "output_type": "stream",
     "text": [
      "1\n"
     ]
    }
   ],
   "source": [
    "print(len(exp_to_do))"
   ]
  },
  {
   "cell_type": "code",
   "execution_count": 17,
   "id": "f4d4ed6d-65f5-4320-9a4c-d1ac61afa943",
   "metadata": {},
   "outputs": [
    {
     "data": {
      "text/plain": [
       "{'elabftw': {'extra_fields_groups': [{'id': 1, 'name': 'Sample'},\n",
       "   {'id': 2, 'name': 'Coordinate_System_Set'},\n",
       "   {'id': 3, 'name': 'Fields'}]},\n",
       " 'extra_fields': {'Sample': {'type': 'items',\n",
       "   'value': 24,\n",
       "   'group_id': 1,\n",
       "   'required': True},\n",
       "  'Definition': {'type': 'text',\n",
       "   'value': 'NXem',\n",
       "   'group_id': 3,\n",
       "   'required': True},\n",
       "  'Start_Time': {'type': 'date',\n",
       "   'value': '2024-10-07',\n",
       "   'group_id': 3,\n",
       "   'required': True},\n",
       "  'Experiment_alias': {'type': 'text',\n",
       "   'value': 'EM_S1',\n",
       "   'group_id': 3,\n",
       "   'required': True},\n",
       "  'Coordinate_System': {'type': 'items',\n",
       "   'value': 25,\n",
       "   'group_id': 2,\n",
       "   'required': True},\n",
       "  'Attribute_Definition_Version': {'type': 'text',\n",
       "   'value': 'v1',\n",
       "   'group_id': 3,\n",
       "   'required': True}}}"
      ]
     },
     "execution_count": 17,
     "metadata": {},
     "output_type": "execute_result"
    }
   ],
   "source": [
    "dic_exp_meta=eval(exp_to_do[0]['metadata'].replace('true','True'))\n",
    "dic_exp_meta"
   ]
  },
  {
   "cell_type": "markdown",
   "id": "8407b695-b625-45db-9066-1cc50110a33a",
   "metadata": {},
   "source": [
    "# Exercise"
   ]
  },
  {
   "cell_type": "markdown",
   "id": "bf0b089d-cdef-4920-9add-286d99fdb463",
   "metadata": {},
   "source": [
    "Everything is very similar to what seen in the 'Simple pipeline' notebook except for two main differences: \n",
    " 1. all the 3 extra_group_fields are used (Sample, Coordinate_System_Set and Fields);\n",
    " 2. The name of the extra_group_fields Coordinate_System_Set is different with respect the corresponding key in the extra_fields dictionary Coordinate_System. In my convention this means that translating into NeXus Coordinate_System_Set has a NXClass different with respect to the Coordinate_System. Indeed ifyou look at the NeXus structure we have Coordinate_System_Set is a group inside the group Coordinate_Index_Set.\n",
    "\n"
   ]
  },
  {
   "cell_type": "code",
   "execution_count": null,
   "id": "82e732bb-ef09-495b-a5b0-e5a1b0a39e77",
   "metadata": {},
   "outputs": [],
   "source": []
  }
 ],
 "metadata": {
  "kernelspec": {
   "display_name": "Python 3 (ipykernel)",
   "language": "python",
   "name": "python3"
  },
  "language_info": {
   "codemirror_mode": {
    "name": "ipython",
    "version": 3
   },
   "file_extension": ".py",
   "mimetype": "text/x-python",
   "name": "python",
   "nbconvert_exporter": "python",
   "pygments_lexer": "ipython3",
   "version": "3.12.3"
  }
 },
 "nbformat": 4,
 "nbformat_minor": 5
}
