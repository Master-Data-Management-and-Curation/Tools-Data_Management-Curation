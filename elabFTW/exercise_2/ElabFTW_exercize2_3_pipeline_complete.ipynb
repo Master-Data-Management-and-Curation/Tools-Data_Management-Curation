{
 "cells": [
  {
   "attachments": {},
   "cell_type": "markdown",
   "id": "a875fd03-dc35-4c22-9920-8cd16eab6674",
   "metadata": {},
   "source": [
    "# SIMPLE PIPELINE\n",
    "\n",
    "In this notebook we set-up a simple-pipeline that take metadata by elabFTW and insert them in a hdf5 file. To realize ths we will\n",
    "- get the experiment metadata by elabFTW by using its API\n",
    "- read the output file\n",
    "- look for item type fields and use again API to decode that field\n",
    "- create an empty hdf5 file\n",
    "- map the metadata we are interested in, in the hdf5 fields\n",
    "\n",
    "### Set up"
   ]
  },
  {
   "cell_type": "code",
   "execution_count": 48,
   "id": "08967dd9-afc4-4257-8ae9-da65422a0fc8",
   "metadata": {},
   "outputs": [
    {
     "name": "stdout",
     "output_type": "stream",
     "text": [
      "Requirement already satisfied: nexusformat in /Library/Frameworks/Python.framework/Versions/3.12/lib/python3.12/site-packages (1.0.6)\n",
      "Requirement already satisfied: numpy in /Library/Frameworks/Python.framework/Versions/3.12/lib/python3.12/site-packages (from nexusformat) (1.26.4)\n",
      "Requirement already satisfied: scipy in /Library/Frameworks/Python.framework/Versions/3.12/lib/python3.12/site-packages (from nexusformat) (1.14.1)\n",
      "Requirement already satisfied: h5py>=2.9 in /Library/Frameworks/Python.framework/Versions/3.12/lib/python3.12/site-packages (from nexusformat) (3.12.1)\n",
      "Requirement already satisfied: hdf5plugin in /Library/Frameworks/Python.framework/Versions/3.12/lib/python3.12/site-packages (from nexusformat) (5.0.0)\n",
      "\n",
      "\u001b[1m[\u001b[0m\u001b[34;49mnotice\u001b[0m\u001b[1;39;49m]\u001b[0m\u001b[39;49m A new release of pip is available: \u001b[0m\u001b[31;49m24.1.2\u001b[0m\u001b[39;49m -> \u001b[0m\u001b[32;49m24.2\u001b[0m\n",
      "\u001b[1m[\u001b[0m\u001b[34;49mnotice\u001b[0m\u001b[1;39;49m]\u001b[0m\u001b[39;49m To update, run: \u001b[0m\u001b[32;49mpip install --upgrade pip\u001b[0m\n",
      "Note: you may need to restart the kernel to use updated packages.\n"
     ]
    }
   ],
   "source": [
    "pip install nexusformat"
   ]
  },
  {
   "cell_type": "code",
   "execution_count": 49,
   "id": "5e7411a5-fb91-4c4e-b729-cdb33303aa54",
   "metadata": {},
   "outputs": [],
   "source": [
    "import datetime\n",
    "# the python library for elabftw\n",
    "import elabapi_python\n",
    "import json\n",
    "import csv\n",
    "import os\n",
    "import ast\n",
    "import pprint\n",
    "import h5py\n",
    "from nexusformat.nexus import *\n",
    "\n",
    "path=\"/Users/federica/Documents/Script/ELAB/elab/\" #set up ypur path\n"
   ]
  },
  {
   "cell_type": "markdown",
   "id": "8a08bd65-2a22-4804-b2b6-cef5196ea819",
   "metadata": {},
   "source": [
    "###  API configuration"
   ]
  },
  {
   "cell_type": "code",
   "execution_count": 50,
   "id": "ff769d86-d128-4d31-80e8-ca1a33697332",
   "metadata": {},
   "outputs": [],
   "source": [
    "\n",
    "# replace with the URL of your instance\n",
    "API_HOST_URL = 'https://nffa-di-electronic-lab.areasciencepark.it/api/v2/'\n",
    "# replace with your api key\n",
    "API_KEY = '5-a1dbfafa4bf091c744c1f816e65ad72c8773c79a100e256b36341fd4391c9f5d68b2b2d2f4a6e0ac02305' #put ypur key"
   ]
  },
  {
   "cell_type": "markdown",
   "id": "21b4f08f-3d57-48f4-b72f-c76c3bb006e5",
   "metadata": {},
   "source": [
    "### ElabFTW get\n",
    "\n",
    "Now we will use the elab API to get the experiment that have id=48 and save the response  in a json file 'exp48.json'. We are not going to use the python library elabapi_python but using the package 'os' we work as we were on the shell and use the command curl."
   ]
  },
  {
   "cell_type": "code",
   "execution_count": 51,
   "id": "8ec3eec5-b2bb-4d88-8c91-47cac68a4d94",
   "metadata": {},
   "outputs": [
    {
     "name": "stderr",
     "output_type": "stream",
     "text": [
      "  % Total    % Received % Xferd  Average Speed   Time    Time     Time  Current\n",
      "                                 Dload  Upload   Total   Spent    Left  Speed\n",
      "100  3120    0  3120    0     0  11284      0 --:--:-- --:--:-- --:--:-- 11304\n"
     ]
    },
    {
     "data": {
      "text/plain": [
       "0"
      ]
     },
     "execution_count": 51,
     "metadata": {},
     "output_type": "execute_result"
    }
   ],
   "source": [
    "os.system('curl -H \"Authorization: '+API_KEY+'\"'+\"GET https://nffa-di-electronic-lab.areasciencepark.it/api/v2/experiments/49  -H 'accept: application/json' >\"+ path+'exp49.json')  "
   ]
  },
  {
   "cell_type": "markdown",
   "id": "55e68156-21a6-4cec-8f3e-d9d3b2201fda",
   "metadata": {},
   "source": [
    "The response is '0' that means everything has gone well!\n",
    "Now let's look at the file."
   ]
  },
  {
   "cell_type": "code",
   "execution_count": 52,
   "id": "6832842c-1d4a-44d9-b5ae-3f69a75301ea",
   "metadata": {},
   "outputs": [
    {
     "data": {
      "text/plain": [
       "{'access_key': None,\n",
       " 'body': '',\n",
       " 'body_html': '',\n",
       " 'canread': '{\"base\": 30, \"teams\": [], \"users\": [], \"teamgroups\": []}',\n",
       " 'canwrite': '{\"base\": 20, \"teams\": [], \"users\": [], \"teamgroups\": []}',\n",
       " 'category': 7,\n",
       " 'category_color': '615bae',\n",
       " 'category_title': 'NXem_simplified',\n",
       " 'comments': [],\n",
       " 'content_type': 1,\n",
       " 'created_at': '2024-10-10 09:50:59',\n",
       " 'custom_id': None,\n",
       " 'date': '2024-10-10',\n",
       " 'elabid': '20241010-4a6bef7cb22f520f1e396250213b67ca7845fb1a',\n",
       " 'events_start': None,\n",
       " 'experiments_links': [],\n",
       " 'firstname': 'Federica',\n",
       " 'fullname': 'Federica Bazzocchi',\n",
       " 'has_attachment': None,\n",
       " 'has_comment': 0,\n",
       " 'id': 49,\n",
       " 'items_links': [{'itemid': 24,\n",
       "   'title': 'S1',\n",
       "   'elabid': '20241007-1b912060978c318c3866470cc406b7a92466ea6b',\n",
       "   'category_title': 'Sample',\n",
       "   'category_color': '3bc814',\n",
       "   'is_bookable': 0,\n",
       "   'link_state': 1}],\n",
       " 'lastchangeby': 3,\n",
       " 'lastname': 'Bazzocchi',\n",
       " 'locked': 0,\n",
       " 'locked_at': None,\n",
       " 'lockedby': None,\n",
       " 'metadata': '{\"elabftw\": {\"extra_fields_groups\": [{\"id\": 1, \"name\": \"Sample\"}, {\"id\": 2, \"name\": \"Coordinate_System_Set\"}, {\"id\": 3, \"name\": \"Fields\"}]}, \"extra_fields\": {\"Sample\": {\"type\": \"items\", \"value\": 24, \"group_id\": 1, \"required\": true}, \"Definition\": {\"type\": \"text\", \"value\": \"NXem\", \"group_id\": 3, \"required\": true}, \"Start_Time\": {\"type\": \"date\", \"value\": \"2024-10-10\", \"group_id\": 3, \"required\": true}, \"Experiment_alias\": {\"type\": \"text\", \"value\": \"em_simplified_id1\", \"group_id\": 3, \"required\": true}, \"Attribute_Definition_Version\": {\"type\": \"text\", \"value\": \"v1\", \"group_id\": 3, \"required\": true}}}',\n",
       " 'metadata_decoded': {'elabftw': {'extra_fields_groups': [{'id': 1,\n",
       "     'name': 'Sample'},\n",
       "    {'id': 2, 'name': 'Coordinate_System_Set'},\n",
       "    {'id': 3, 'name': 'Fields'}]},\n",
       "  'extra_fields': {'Sample': {'type': 'items',\n",
       "    'value': 24,\n",
       "    'group_id': 1,\n",
       "    'required': True},\n",
       "   'Definition': {'type': 'text',\n",
       "    'value': 'NXem',\n",
       "    'group_id': 3,\n",
       "    'required': True},\n",
       "   'Start_Time': {'type': 'date',\n",
       "    'value': '2024-10-10',\n",
       "    'group_id': 3,\n",
       "    'required': True},\n",
       "   'Experiment_alias': {'type': 'text',\n",
       "    'value': 'em_simplified_id1',\n",
       "    'group_id': 3,\n",
       "    'required': True},\n",
       "   'Attribute_Definition_Version': {'type': 'text',\n",
       "    'value': 'v1',\n",
       "    'group_id': 3,\n",
       "    'required': True}}},\n",
       " 'modified_at': '2024-10-10 09:51:43',\n",
       " 'next_step': None,\n",
       " 'orcid': None,\n",
       " 'page': 'experiments',\n",
       " 'rating': 0,\n",
       " 'recent_comment': None,\n",
       " 'related_experiments_links': [],\n",
       " 'related_items_links': [],\n",
       " 'sharelink': 'https://nffa-di-electronic-lab.areasciencepark.it/experiments.php?mode=view&id=49',\n",
       " 'state': 1,\n",
       " 'status': None,\n",
       " 'status_color': None,\n",
       " 'status_title': None,\n",
       " 'steps': [],\n",
       " 'tags': None,\n",
       " 'tags_id': None,\n",
       " 'team': 13,\n",
       " 'team_name': 'MASTER',\n",
       " 'timestamped': 0,\n",
       " 'timestamped_at': None,\n",
       " 'timestampedby': None,\n",
       " 'title': 'NXem_simplified_id1',\n",
       " 'type': 'experiments',\n",
       " 'up_item_id': None,\n",
       " 'uploads': [],\n",
       " 'userid': 3}"
      ]
     },
     "execution_count": 52,
     "metadata": {},
     "output_type": "execute_result"
    }
   ],
   "source": [
    "with open(path+'exp49.json', \"r\") as jsonfile:\n",
    "        dic_exp = json.load(jsonfile) \n",
    "dic_exp"
   ]
  },
  {
   "cell_type": "markdown",
   "id": "f0eedf2a-f275-4da9-98a4-bdcf87efb146",
   "metadata": {},
   "source": [
    "It is a json file that contains **all the informations** present in the experiment page (all the metadata!) Contrary to the \"toy_pipeline\" now the extra_fields corresponds to **2 groups**. One is the group of simple field as before, but the other refers to  the sample group and it is item type. Its value is a number and **corresponds to the item number 24 in the DB**. Therefore we will use another API to get the information of item 24 from the DB.\n",
    "This time we are going to use the package elabapi-python."
   ]
  },
  {
   "cell_type": "code",
   "execution_count": 53,
   "id": "b587b76a-81d4-459b-aebd-382587c88b77",
   "metadata": {},
   "outputs": [
    {
     "name": "stderr",
     "output_type": "stream",
     "text": [
      "/Library/Frameworks/Python.framework/Versions/3.12/lib/python3.12/site-packages/urllib3/connectionpool.py:1099: InsecureRequestWarning: Unverified HTTPS request is being made to host 'nffa-di-electronic-lab.areasciencepark.it'. Adding certificate verification is strongly advised. See: https://urllib3.readthedocs.io/en/latest/advanced-usage.html#tls-warnings\n",
      "  warnings.warn(\n"
     ]
    },
    {
     "data": {
      "text/plain": [
       "{'_date': '2024-10-07',\n",
       " 'access_key': None,\n",
       " 'body': '',\n",
       " 'body_html': '',\n",
       " 'book_can_overlap': 1,\n",
       " 'book_cancel_minutes': 0,\n",
       " 'book_is_cancellable': 1,\n",
       " 'book_max_minutes': 0,\n",
       " 'book_max_slots': 0,\n",
       " 'book_users_can_in_past': None,\n",
       " 'canbook': '{\"base\": 30, \"teams\": [], \"users\": [], \"teamgroups\": []}',\n",
       " 'canread': '{\"base\": 30, \"teams\": [], \"users\": [], \"teamgroups\": []}',\n",
       " 'canwrite': '{\"base\": 30, \"teams\": [], \"users\": [], \"teamgroups\": []}',\n",
       " 'category': 26,\n",
       " 'category_color': '3bc814',\n",
       " 'category_title': 'Sample',\n",
       " 'comments': [],\n",
       " 'content_type': 1,\n",
       " 'created_at': '2024-10-07 18:16:25',\n",
       " 'custom_id': None,\n",
       " 'elabid': '20241007-1b912060978c318c3866470cc406b7a92466ea6b',\n",
       " 'experiments_links': [],\n",
       " 'firstname': 'Federica',\n",
       " 'fullname': 'Federica Bazzocchi',\n",
       " 'has_attachement': None,\n",
       " 'has_comment': 0,\n",
       " 'id': 24,\n",
       " 'is_bookable': 0,\n",
       " 'items_links': [],\n",
       " 'lastchangeby': 3,\n",
       " 'lastname': 'Bazzocchi',\n",
       " 'locked': 0,\n",
       " 'locked_at': None,\n",
       " 'lockedby': None,\n",
       " 'metadata': '{\"elabftw\": {\"extra_fields_groups\": [{\"id\": 1, \"name\": \"Fields\"}, {\"id\": 2, \"name\": \"Identifier\"}, {\"id\": 3, \"name\": \"Parent_Identifier\"}]}, \"extra_fields\": {\"Name\": {\"type\": \"text\", \"value\": \"sample_1\", \"group_id\": 1}, \"Type\": {\"type\": \"select\", \"value\": \"Experimental\", \"options\": [\"Experimental\", \"Simulation\"], \"group_id\": 1, \"required\": true}, \"Density\": {\"type\": \"number\", \"unit\": \"g/m^3\", \"units\": [\"g/m^3\", \"mg/cm^3\"], \"value\": \"0.01\", \"group_id\": 1}, \"Service\": {\"type\": \"text\", \"value\": \"absent\", \"group_id\": 3}, \"Service_s\": {\"type\": \"text\", \"value\": \"internal\", \"group_id\": 2}, \"Thickness\": {\"type\": \"number\", \"unit\": \"microm\", \"units\": [\"microm\", \"nm\", \"picom\"], \"value\": \"0.1\", \"group_id\": 1}, \"Atom_types\": {\"type\": \"text\", \"value\": \"C H\", \"group_id\": 1, \"required\": true}, \"Identifier\": {\"type\": \"text\", \"value\": \"absent\", \"group_id\": 3}, \"Description\": {\"type\": \"text\", \"value\": \"first_sample\", \"group_id\": 1}, \"Identifier_s\": {\"type\": \"text\", \"value\": \"S1\", \"group_id\": 2}, \"Is_persistent\": {\"type\": \"select\", \"value\": \"False\", \"options\": [\"True\", \"False\"], \"group_id\": 3}, \"Is_persistent_s\": {\"type\": \"select\", \"value\": \"True\", \"options\": [\"True\", \"False\"], \"group_id\": 2}, \"Preparation_date\": {\"type\": \"datetime-local\", \"value\": \"2024-10-07T18:17\", \"group_id\": 1, \"required\": true}}}',\n",
       " 'modified_at': '2024-10-07 18:17:53',\n",
       " 'next_step': None,\n",
       " 'orcid': None,\n",
       " 'page': 'database',\n",
       " 'rating': 0,\n",
       " 'recent_comment': None,\n",
       " 'related_experiments_links': [{'category_color': '1d46ed',\n",
       "   'category_title': 'NXem',\n",
       "   'entityid': 46,\n",
       "   'is_bookable': None,\n",
       "   'link_state': 1,\n",
       "   'title': 'NXem_id1'},\n",
       "  {'category_color': '615bae',\n",
       "   'category_title': 'NXem_simplified',\n",
       "   'entityid': 49,\n",
       "   'is_bookable': None,\n",
       "   'link_state': 1,\n",
       "   'title': 'NXem_simplified_id1'}],\n",
       " 'related_items_links': [],\n",
       " 'sharelink': 'https://nffa-di-electronic-lab.areasciencepark.it/database.php?mode=view&id=24',\n",
       " 'state': 1,\n",
       " 'status': None,\n",
       " 'status_color': None,\n",
       " 'status_title': None,\n",
       " 'steps': [],\n",
       " 'tags': None,\n",
       " 'tags_id': None,\n",
       " 'team': 13,\n",
       " 'timestamped': 0,\n",
       " 'timestamped_at': None,\n",
       " 'timestampedby': None,\n",
       " 'title': 'S1',\n",
       " 'type': 'items',\n",
       " 'up_item_id': None,\n",
       " 'uploads': [],\n",
       " 'userid': 3}"
      ]
     },
     "execution_count": 53,
     "metadata": {},
     "output_type": "execute_result"
    }
   ],
   "source": [
    "# Configure the api client\n",
    "configuration = elabapi_python.Configuration()\n",
    "configuration.api_key['api_key'] = API_KEY\n",
    "configuration.api_key_prefix['api_key'] = 'Authorization'\n",
    "configuration.host = API_HOST_URL\n",
    "configuration.debug = False\n",
    "configuration.verify_ssl = False\n",
    "\n",
    "# create an instance of the API class\n",
    "api_client = elabapi_python.ApiClient(configuration)\n",
    "# fix issue with Authorization header not being properly set by the generated lib\n",
    "api_client.set_default_header(header_name='Authorization', header_value=API_KEY)\n",
    "\n",
    "\n",
    "# Load the Items api\n",
    "\n",
    "api_instance = elabapi_python.ItemsApi(api_client)\n",
    "\n",
    "\n",
    "id = 24 # Integer | ID of the item\n",
    "format =  'json'# | Get the entity in a different format like csv, pdf, eln or zip. \"pdfa\" means archive pdf (PDF/A), same with \"zipa\".\n",
    "# (optional) (default to json)\n",
    "json = True # Boolean | Include a full JSON export in the ZIP archive. Only applicable if format is zip(a).\n",
    " #(optional)\n",
    "withTitle = True # Boolean | Include the title in the QR code. Only applicable if format is qrpng.\n",
    " #(optional)\n",
    "#size = 56 # Integer | Specify the size of the QR code in pixels. Only applicable if format is qrpng.\n",
    " #(optional) (default to 250)\n",
    "#changelog = True # Boolean | Toggles if the changelog should be included in PDF exports (pdf, pdfa, zip, zipa). Changelog is by default included if the export provides PDF/A, otherwise not.\n",
    " #(optional)\n",
    "\n",
    "\n",
    "    # Read an item\n",
    "api_response = api_instance.get_item(id)\n",
    "dic_sample=eval(str(api_response))\n",
    "dic_sample"
   ]
  },
  {
   "cell_type": "markdown",
   "id": "ad5ef6f5-9bc8-42cc-be57-aff34e4cb089",
   "metadata": {},
   "source": [
    "As in the experiment template, we built the sample resource in such a way that all the metadata we need are in the 'value' of the 'metadata' key. Let's look at it"
   ]
  },
  {
   "cell_type": "code",
   "execution_count": 54,
   "id": "e16d8fa8-b78f-4573-ac30-94c660828eb8",
   "metadata": {},
   "outputs": [
    {
     "data": {
      "text/plain": [
       "'{\"elabftw\": {\"extra_fields_groups\": [{\"id\": 1, \"name\": \"Fields\"}, {\"id\": 2, \"name\": \"Identifier\"}, {\"id\": 3, \"name\": \"Parent_Identifier\"}]}, \"extra_fields\": {\"Name\": {\"type\": \"text\", \"value\": \"sample_1\", \"group_id\": 1}, \"Type\": {\"type\": \"select\", \"value\": \"Experimental\", \"options\": [\"Experimental\", \"Simulation\"], \"group_id\": 1, \"required\": true}, \"Density\": {\"type\": \"number\", \"unit\": \"g/m^3\", \"units\": [\"g/m^3\", \"mg/cm^3\"], \"value\": \"0.01\", \"group_id\": 1}, \"Service\": {\"type\": \"text\", \"value\": \"absent\", \"group_id\": 3}, \"Service_s\": {\"type\": \"text\", \"value\": \"internal\", \"group_id\": 2}, \"Thickness\": {\"type\": \"number\", \"unit\": \"microm\", \"units\": [\"microm\", \"nm\", \"picom\"], \"value\": \"0.1\", \"group_id\": 1}, \"Atom_types\": {\"type\": \"text\", \"value\": \"C H\", \"group_id\": 1, \"required\": true}, \"Identifier\": {\"type\": \"text\", \"value\": \"absent\", \"group_id\": 3}, \"Description\": {\"type\": \"text\", \"value\": \"first_sample\", \"group_id\": 1}, \"Identifier_s\": {\"type\": \"text\", \"value\": \"S1\", \"group_id\": 2}, \"Is_persistent\": {\"type\": \"select\", \"value\": \"False\", \"options\": [\"True\", \"False\"], \"group_id\": 3}, \"Is_persistent_s\": {\"type\": \"select\", \"value\": \"True\", \"options\": [\"True\", \"False\"], \"group_id\": 2}, \"Preparation_date\": {\"type\": \"datetime-local\", \"value\": \"2024-10-07T18:17\", \"group_id\": 1, \"required\": true}}}'"
      ]
     },
     "execution_count": 54,
     "metadata": {},
     "output_type": "execute_result"
    }
   ],
   "source": [
    "dic_sample['metadata']"
   ]
  },
  {
   "cell_type": "markdown",
   "id": "5bba67eb-73fc-44cb-9ccd-758bcdd4d38e",
   "metadata": {},
   "source": [
    "It is a string...let us transform it in a dictionary. Moreover since \"true\" will not be recognized by python let us replace \"true\" with \"True\"."
   ]
  },
  {
   "cell_type": "code",
   "execution_count": 8,
   "id": "7977386e-8f8d-442c-90d4-427dd840dc6d",
   "metadata": {},
   "outputs": [],
   "source": [
    "dic_meta_sample=eval(dic_sample['metadata'].replace('true','True') )\n"
   ]
  },
  {
   "cell_type": "markdown",
   "id": "e08cffd0-5d35-4ba7-83c9-27358d51694f",
   "metadata": {},
   "source": [
    "Let's explore "
   ]
  },
  {
   "cell_type": "code",
   "execution_count": 55,
   "id": "cc3da8d7-8b7e-4d30-a5b1-8b99d078ee27",
   "metadata": {},
   "outputs": [
    {
     "name": "stdout",
     "output_type": "stream",
     "text": [
      "key: elabftw\n",
      "{'extra_fields_groups': [{'id': 1, 'name': 'Fields'}, {'id': 2, 'name': 'Identifier'}, {'id': 3, 'name': 'Parent_Identifier'}]}\n",
      "key: extra_fields\n",
      "{'Name': {'type': 'text', 'value': 'sample_1', 'group_id': 1}, 'Type': {'type': 'select', 'value': 'Experimental', 'options': ['Experimental', 'Simulation'], 'group_id': 1, 'required': True}, 'Density': {'type': 'number', 'unit': 'g/m^3', 'units': ['g/m^3', 'mg/cm^3'], 'value': '0.01', 'group_id': 1}, 'Service': {'type': 'text', 'value': 'absent', 'group_id': 3}, 'Service_s': {'type': 'text', 'value': 'internal', 'group_id': 2}, 'Thickness': {'type': 'number', 'unit': 'microm', 'units': ['microm', 'nm', 'picom'], 'value': '0.1', 'group_id': 1}, 'Atom_types': {'type': 'text', 'value': 'C H', 'group_id': 1, 'required': True}, 'Identifier': {'type': 'text', 'value': 'absent', 'group_id': 3}, 'Description': {'type': 'text', 'value': 'first_sample', 'group_id': 1}, 'Identifier_s': {'type': 'text', 'value': 'S1', 'group_id': 2}, 'Is_persistent': {'type': 'select', 'value': 'False', 'options': ['True', 'False'], 'group_id': 3}, 'Is_persistent_s': {'type': 'select', 'value': 'True', 'options': ['True', 'False'], 'group_id': 2}, 'Preparation_date': {'type': 'datetime-local', 'value': '2024-10-07T18:17', 'group_id': 1, 'required': True}}\n"
     ]
    }
   ],
   "source": [
    "for key, value in dic_meta_sample.items():\n",
    "    print('key:',key)\n",
    "    print(value)"
   ]
  },
  {
   "cell_type": "markdown",
   "id": "1ab473c9-a4dd-40eb-8435-fb33f257a85e",
   "metadata": {},
   "source": [
    "Remember that we have also the metadata in the group 'fields' of the experiment template. We will define as in tpy_pipeline notebook"
   ]
  },
  {
   "cell_type": "code",
   "execution_count": 56,
   "id": "3b7489a7-8338-46a1-ba8e-940ea90f4b72",
   "metadata": {},
   "outputs": [
    {
     "name": "stdout",
     "output_type": "stream",
     "text": [
      "key: elabftw\n",
      "{'extra_fields_groups': [{'id': 1, 'name': 'Sample'}, {'id': 2, 'name': 'Coordinate_System_Set'}, {'id': 3, 'name': 'Fields'}]}\n",
      "key: extra_fields\n",
      "{'Sample': {'type': 'items', 'value': 24, 'group_id': 1, 'required': True}, 'Definition': {'type': 'text', 'value': 'NXem', 'group_id': 3, 'required': True}, 'Start_Time': {'type': 'date', 'value': '2024-10-10', 'group_id': 3, 'required': True}, 'Experiment_alias': {'type': 'text', 'value': 'em_simplified_id1', 'group_id': 3, 'required': True}, 'Attribute_Definition_Version': {'type': 'text', 'value': 'v1', 'group_id': 3, 'required': True}}\n"
     ]
    }
   ],
   "source": [
    "dic_meta_exp=eval(dic_exp['metadata'].replace('true','True') )\n",
    "for key, value in dic_meta_exp.items():\n",
    "    print('key:',key)\n",
    "    print(value)"
   ]
  },
  {
   "cell_type": "markdown",
   "id": "5aeb1a92-6a87-4722-b919-4870c9c18a88",
   "metadata": {},
   "source": [
    "Notice that in both dictionaries, corresponding to the 'elabftw' key there are the groups according to which we have organized the metadata. We have used only the group 'fields' to tell us that in that group we will put metadata that will be mapped in fields of the hdf5 file.\n",
    "The 'extra_fields' key's value is a dictionary where:\n",
    "- the key are the fields name\n",
    "- the value are dictionary with the key type,value acquired by the field (we are interested in this!!!) and the corresponding group (in our case there is only a group, the fields one)\n",
    "\n",
    "The 'Nexus' (incomplete) file we are going to build will take metadata both from the dic_meta_exp and from the dic_meta_sample. Why we put the 'Sample' as linked resources and we introduced a specific group? It is our internal convention to say 'In the Nexus file Sample is a group'"
   ]
  },
  {
   "cell_type": "markdown",
   "id": "6bbe9ecb-8db9-4de1-8b0d-6e9251877664",
   "metadata": {},
   "source": [
    "# Preparing  and mapping the hdf5/NeXus file"
   ]
  },
  {
   "cell_type": "markdown",
   "id": "3a1d74cb-dd34-4da0-aa44-4fd9255c6d75",
   "metadata": {},
   "source": [
    "First we initialize a file, then we create the main group corresponding to the NXentry"
   ]
  },
  {
   "cell_type": "code",
   "execution_count": 57,
   "id": "e1e3cee6-87b6-49fa-958b-3cb7e3f0d1ef",
   "metadata": {},
   "outputs": [],
   "source": [
    "f=h5py.File(path+'NXem_simplified.nxs','w')\n",
    "f.attrs['default']='entry'"
   ]
  },
  {
   "cell_type": "code",
   "execution_count": 58,
   "id": "543da999-268d-495a-8b02-5ffcf24b0bc7",
   "metadata": {},
   "outputs": [],
   "source": [
    "g_entry=f.create_group('entry')\n",
    "g_entry.attrs['NX_class']='NX_entry'"
   ]
  },
  {
   "cell_type": "markdown",
   "id": "e0308726-0105-4ee7-947e-1b0080bfcf54",
   "metadata": {},
   "source": [
    "Now we insert the fields as in the toy pipeline"
   ]
  },
  {
   "cell_type": "code",
   "execution_count": 59,
   "id": "1fcbbb83-4f29-4ae8-98f8-6bc07727fa2c",
   "metadata": {},
   "outputs": [],
   "source": [
    "g_entry['definition']=dic_meta_exp['extra_fields']['Definition']['value']\n",
    "g_entry['start_time']=dic_meta_exp['extra_fields']['Start_Time']['value']\n",
    "g_entry['experiment_alias']=dic_meta_exp['extra_fields']['Experiment_alias']['value']"
   ]
  },
  {
   "cell_type": "markdown",
   "id": "1a082337-3880-4353-bcbc-cdc53ba6293d",
   "metadata": {},
   "source": [
    "But now we have to create the group for the sample and then insert its groups and fields. Its groups are the ones corresponding to the kew extra_fields_group with name different by 'fields' (our convention). \n",
    "Let's give again a look at the structure."
   ]
  },
  {
   "cell_type": "code",
   "execution_count": 60,
   "id": "6ec933e3-f900-492a-ad7d-6cc48d57e387",
   "metadata": {},
   "outputs": [
    {
     "name": "stdout",
     "output_type": "stream",
     "text": [
      "key: elabftw\n",
      "{'extra_fields_groups': [{'id': 1, 'name': 'Fields'}, {'id': 2, 'name': 'Identifier'}, {'id': 3, 'name': 'Parent_Identifier'}]}\n",
      "key: extra_fields\n",
      "{'Name': {'type': 'text', 'value': 'sample_1', 'group_id': 1}, 'Type': {'type': 'select', 'value': 'Experimental', 'options': ['Experimental', 'Simulation'], 'group_id': 1, 'required': True}, 'Density': {'type': 'number', 'unit': 'g/m^3', 'units': ['g/m^3', 'mg/cm^3'], 'value': '0.01', 'group_id': 1}, 'Service': {'type': 'text', 'value': 'absent', 'group_id': 3}, 'Service_s': {'type': 'text', 'value': 'internal', 'group_id': 2}, 'Thickness': {'type': 'number', 'unit': 'microm', 'units': ['microm', 'nm', 'picom'], 'value': '0.1', 'group_id': 1}, 'Atom_types': {'type': 'text', 'value': 'C H', 'group_id': 1, 'required': True}, 'Identifier': {'type': 'text', 'value': 'absent', 'group_id': 3}, 'Description': {'type': 'text', 'value': 'first_sample', 'group_id': 1}, 'Identifier_s': {'type': 'text', 'value': 'S1', 'group_id': 2}, 'Is_persistent': {'type': 'select', 'value': 'False', 'options': ['True', 'False'], 'group_id': 3}, 'Is_persistent_s': {'type': 'select', 'value': 'True', 'options': ['True', 'False'], 'group_id': 2}, 'Preparation_date': {'type': 'datetime-local', 'value': '2024-10-07T18:17', 'group_id': 1, 'required': True}}\n"
     ]
    }
   ],
   "source": [
    "for key, value in dic_meta_sample.items():\n",
    "    print('key:',key)\n",
    "    print(value)"
   ]
  },
  {
   "cell_type": "code",
   "execution_count": 61,
   "id": "cbe565df-c9e8-465c-9a50-f426124ce62f",
   "metadata": {},
   "outputs": [],
   "source": [
    "g_sample=g_entry.create_group('sample')\n",
    "g_sample.attrs['NX_class']='NXsample'\n",
    "g_identifier=g_sample.create_group('identifier')\n",
    "g_identifier.attrs['NX_class']='NXidentifier'\n",
    "g_parent_identifier=g_sample.create_group('parentidentifier')\n",
    "g_parent_identifier.attrs['NX_class']='NXidentifier'"
   ]
  },
  {
   "cell_type": "markdown",
   "id": "609f0782-b96a-48ce-bf2b-e8df645e60e3",
   "metadata": {},
   "source": [
    "Let's now insert the fields: to identify them we extrapolate only the values corresponding to group id=1"
   ]
  },
  {
   "cell_type": "code",
   "execution_count": 62,
   "id": "afc9988a-8d6c-470e-8a9e-cdc111e2a8a6",
   "metadata": {},
   "outputs": [
    {
     "name": "stdout",
     "output_type": "stream",
     "text": [
      "Name\n",
      "{'type': 'text', 'value': 'sample_1', 'group_id': 1}\n",
      "Type\n",
      "{'type': 'select', 'value': 'Experimental', 'options': ['Experimental', 'Simulation'], 'group_id': 1, 'required': True}\n",
      "Density\n",
      "{'type': 'number', 'unit': 'g/m^3', 'units': ['g/m^3', 'mg/cm^3'], 'value': '0.01', 'group_id': 1}\n",
      "Thickness\n",
      "{'type': 'number', 'unit': 'microm', 'units': ['microm', 'nm', 'picom'], 'value': '0.1', 'group_id': 1}\n",
      "Atom_types\n",
      "{'type': 'text', 'value': 'C H', 'group_id': 1, 'required': True}\n",
      "Description\n",
      "{'type': 'text', 'value': 'first_sample', 'group_id': 1}\n",
      "Preparation_date\n",
      "{'type': 'datetime-local', 'value': '2024-10-07T18:17', 'group_id': 1, 'required': True}\n"
     ]
    }
   ],
   "source": [
    "sub_dic=dic_meta_sample['extra_fields']\n",
    "for key, value in sub_dic.items():\n",
    "    if value['group_id']==1:\n",
    "        print(key)\n",
    "        print(value)"
   ]
  },
  {
   "cell_type": "code",
   "execution_count": 63,
   "id": "ad9894c7-848b-4167-bed9-eeaaac937fe5",
   "metadata": {},
   "outputs": [],
   "source": [
    "g_sample['name']=dic_meta_sample['extra_fields']['Name']['value']\n",
    "g_sample['type']=dic_meta_sample['extra_fields']['Type']['value']\n",
    "g_sample['density']=dic_meta_sample['extra_fields']['Density']['value']\n",
    "g_sample['density'].attrs['units']=dic_meta_sample['extra_fields']['Density']['unit']\n",
    "g_sample['thickness']=dic_meta_sample['extra_fields']['Thickness']['value']\n",
    "g_sample['thickness'].attrs['units']=dic_meta_sample['extra_fields']['Thickness']['unit']\n",
    "g_sample['atom_types']=dic_meta_sample['extra_fields']['Atom_types']['value']\n",
    "g_sample['description']=dic_meta_sample['extra_fields']['Description']['value']\n",
    "g_sample['preparation_date']=dic_meta_sample['extra_fields']['Preparation_date']['value']"
   ]
  },
  {
   "cell_type": "markdown",
   "id": "f1045fd4-72d4-449e-ac22-6e261e4a1dc5",
   "metadata": {},
   "source": [
    "Let's now insert the  group 'identifier' and its fields: to identify them we extrapolate only the values corresponding to group id=2"
   ]
  },
  {
   "cell_type": "code",
   "execution_count": 64,
   "id": "841f9a83-768f-4aa6-a6ba-b2e828be5ba4",
   "metadata": {},
   "outputs": [
    {
     "name": "stdout",
     "output_type": "stream",
     "text": [
      "Service_s\n",
      "{'type': 'text', 'value': 'internal', 'group_id': 2}\n",
      "Identifier_s\n",
      "{'type': 'text', 'value': 'S1', 'group_id': 2}\n",
      "Is_persistent_s\n",
      "{'type': 'select', 'value': 'True', 'options': ['True', 'False'], 'group_id': 2}\n"
     ]
    }
   ],
   "source": [
    "sub_dic=dic_meta_sample['extra_fields']\n",
    "for key, value in sub_dic.items():\n",
    "    if value['group_id']==2:\n",
    "        print(key)\n",
    "        print(value)"
   ]
  },
  {
   "cell_type": "markdown",
   "id": "876ba33d-cb1b-4502-9ea5-987c2eabdb35",
   "metadata": {},
   "source": [
    "Notice this orrible notation (with the 's'): **Elab didn't allow to use in the same template resources with fields with the same name** and since before I created the parent_identifier one I was forced to differentiate the Identifier fields. The reason why this is not allowed  is related to the structure of the dictionary dic_meta_sample['extra_fields'] that arranges only  2 levels!!! Clearly in the hdf5/nxs structure fields belonging to different group may have the same name."
   ]
  },
  {
   "cell_type": "code",
   "execution_count": 65,
   "id": "234b11f8-0072-4ec7-a411-067cf9b0656b",
   "metadata": {},
   "outputs": [],
   "source": [
    "g_identifier['service']=dic_meta_sample['extra_fields']['Service_s']['value']\n",
    "g_identifier['identifier']=dic_meta_sample['extra_fields']['Identifier_s']['value']\n",
    "g_identifier['is_persistent']=dic_meta_sample['extra_fields']['Is_persistent_s']['value']"
   ]
  },
  {
   "cell_type": "markdown",
   "id": "370f939b-0110-4572-b361-7a8c6366e9e5",
   "metadata": {},
   "source": [
    "The parent idnetifier group has the same name as the idnetifier one, thus we may proceed."
   ]
  },
  {
   "cell_type": "code",
   "execution_count": 66,
   "id": "eb1e8b08-def8-4fa4-94a7-34fd1d418f50",
   "metadata": {},
   "outputs": [],
   "source": [
    "g_parent_identifier['service']=dic_meta_sample['extra_fields']['Service']['value']\n",
    "g_parent_identifier['identifier']=dic_meta_sample['extra_fields']['Identifier']['value']\n",
    "g_parent_identifier['is_persistent']=dic_meta_sample['extra_fields']['Is_persistent']['value']"
   ]
  },
  {
   "cell_type": "code",
   "execution_count": 45,
   "id": "fb6f5809-321d-45c7-97f6-5606872b091e",
   "metadata": {},
   "outputs": [
    {
     "name": "stdout",
     "output_type": "stream",
     "text": [
      "entry\n",
      "entry/definition\n",
      "entry/experiment_alias\n",
      "entry/sample\n",
      "entry/sample/atom_types\n",
      "entry/sample/density\n",
      "entry/sample/description\n",
      "entry/sample/identifier\n",
      "entry/sample/identifier/identifier\n",
      "entry/sample/identifier/is_persistent\n",
      "entry/sample/identifier/service\n",
      "entry/sample/name\n",
      "entry/sample/parentidentifier\n",
      "entry/sample/parentidentifier/identifier\n",
      "entry/sample/parentidentifier/is_persistent\n",
      "entry/sample/parentidentifier/service\n",
      "entry/sample/preparation_dat\n",
      "entry/sample/thickness\n",
      "entry/sample/type\n",
      "entry/start_time\n"
     ]
    }
   ],
   "source": [
    "def printname(name):\n",
    "    print(name)\n",
    "f.visit(printname)    "
   ]
  },
  {
   "cell_type": "code",
   "execution_count": 46,
   "id": "47fd2e91-63bc-45f1-85ef-0ffd3c2b3a65",
   "metadata": {},
   "outputs": [],
   "source": [
    "f.close()"
   ]
  },
  {
   "cell_type": "code",
   "execution_count": 47,
   "id": "14054057-d55d-49b0-b425-a1aed73ee41c",
   "metadata": {},
   "outputs": [
    {
     "name": "stdout",
     "output_type": "stream",
     "text": [
      "root:NXroot\n",
      "  @default = 'entry'\n",
      "  entry:NX_entry\n",
      "    definition = 'NXem'\n",
      "    experiment_alias = 'em_simplified_id1'\n",
      "    sample:NXsample\n",
      "      atom_types = 'C H'\n",
      "      density = '0.01'\n",
      "        @units = 'g/m^3'\n",
      "      description = 'first_sample'\n",
      "      identifier:NXidentifier\n",
      "        identifier = 'S1'\n",
      "        is_persistent = 'True'\n",
      "        service = 'internal'\n",
      "      name = 'sample_1'\n",
      "      parentidentifier:NXidentifier\n",
      "        identifier = 'absent'\n",
      "        is_persistent = 'False'\n",
      "        service = 'absent'\n",
      "      preparation_dat = '2024-10-07T18:17'\n",
      "      thickness = '0.1'\n",
      "        @units = 'microm'\n",
      "      type = 'Experimental'\n",
      "    start_time = '2024-10-10'\n"
     ]
    }
   ],
   "source": [
    "test=nxload(path+'NXem_simplified.nxs')\n",
    "print(test.tree)"
   ]
  },
  {
   "cell_type": "code",
   "execution_count": null,
   "id": "06b7fee9-9664-4016-bd2e-eff475461a2c",
   "metadata": {},
   "outputs": [],
   "source": []
  },
  {
   "cell_type": "code",
   "execution_count": null,
   "id": "0870d796-ee9b-40dc-8a8e-fa957bc9c825",
   "metadata": {},
   "outputs": [],
   "source": [
    "g"
   ]
  },
  {
   "cell_type": "markdown",
   "id": "d19319c6-ca8a-46c5-8e60-548b6e00cd0e",
   "metadata": {},
   "source": [
    "## Pre-Exercise \n",
    "Visualize the nxs we have created by using the online service https://myhdf5.hdfgroup.org/"
   ]
  },
  {
   "cell_type": "markdown",
   "id": "b20ba59b-6624-4476-829d-f9975c8bb926",
   "metadata": {},
   "source": [
    "## Exercise 1 \n",
    "Define a function  that starting from dic_meta_sample create the correct structure group/fields.\n"
   ]
  },
  {
   "cell_type": "markdown",
   "id": "fff3cd7c-ee96-42a1-b4d8-92e07dfeb8eb",
   "metadata": {},
   "source": [
    "## Exercise 2 \n",
    "Starting from the response obtained by the API_Experiments insert the call to the item dynamically.\n"
   ]
  },
  {
   "cell_type": "code",
   "execution_count": null,
   "id": "82e732bb-ef09-495b-a5b0-e5a1b0a39e77",
   "metadata": {},
   "outputs": [],
   "source": []
  }
 ],
 "metadata": {
  "kernelspec": {
   "display_name": "Python 3 (ipykernel)",
   "language": "python",
   "name": "python3"
  },
  "language_info": {
   "codemirror_mode": {
    "name": "ipython",
    "version": 3
   },
   "file_extension": ".py",
   "mimetype": "text/x-python",
   "name": "python",
   "nbconvert_exporter": "python",
   "pygments_lexer": "ipython3",
   "version": "3.12.8"
  }
 },
 "nbformat": 4,
 "nbformat_minor": 5
}
